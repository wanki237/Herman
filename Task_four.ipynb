{
  "nbformat": 4,
  "nbformat_minor": 0,
  "metadata": {
    "colab": {
      "provenance": []
    },
    "kernelspec": {
      "name": "python3",
      "display_name": "Python 3"
    },
    "language_info": {
      "name": "python"
    }
  },
  "cells": [
    {
      "cell_type": "markdown",
      "source": [
        "# **Task 4**\n",
        "\n",
        "Deadline: Wednesday at 11:59pm"
      ],
      "metadata": {
        "id": "oPsK-2LuV0Id"
      }
    },
    {
      "cell_type": "markdown",
      "source": [
        "1. **Data Exploration**\n",
        " * How many employees are in the dataset?\n",
        " * How many missing values exist in each column?\n",
        " * What are the unique job titles and departments?\n",
        " * Identify duplicate employee records and remove them.\n",
        "\n",
        "2. **Data Cleaning**\n",
        " * Convert salaries from text to numeric (e.g., \"$50,000\" → 50000).\n",
        " * Standardize job titles (fix inconsistencies like “manager” vs. “Manager”) change everything to start with uppercase.\n",
        " * Fill missing values in performance scores using median or mean.\n",
        " * Detect and remove outliers in salary (any salaries too high/low?).\n",
        " * Convert date columns (e.g., \"01-12-2023\" as string → datetime format).\n",
        "\n",
        "3. **Analysis**\n",
        " * What is the average salary of employees?\n",
        " * Which department has the highest average salary?\n",
        " * Which department has the lowest performance scores?\n",
        " * Which job title has the highest average salary?\n",
        "\n",
        "4. **Department-Level Insights**\n",
        " * Which department has the most employees?\n",
        " * What is the salary distribution across departments?\n",
        " * Identify departments with the most missing data."
      ],
      "metadata": {
        "id": "HLEXBuARX5Ac"
      }
    },
    {
      "cell_type": "code",
      "source": [],
      "metadata": {
        "id": "lpO9ZIBIYzYQ"
      },
      "execution_count": null,
      "outputs": []
    }
  ]
}