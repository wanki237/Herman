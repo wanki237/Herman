{
  "cells": [
    {
      "cell_type": "markdown",
      "metadata": {
        "id": "oPsK-2LuV0Id"
      },
      "source": [
        "# **Task 4**\n",
        "\n",
        "Deadline: Wednesday at 11:59pm"
      ]
    },
    {
      "cell_type": "markdown",
      "metadata": {
        "id": "HLEXBuARX5Ac"
      },
      "source": [
        "1. **Data Exploration**\n",
        " * How many employees are in the dataset?\n",
        " * How many missing values exist in each column?\n",
        " * What are the unique job titles and departments?\n",
        " * Identify duplicate employee records and remove them.\n",
        "\n",
        "2. **Data Cleaning**\n",
        " * Convert salaries from text to numeric (e.g., \"$50,000\" → 50000).\n",
        " * Standardize job titles (fix inconsistencies like “manager” vs. “Manager”) change everything to start with uppercase.\n",
        " * Fill missing values in performance scores using median or mean.\n",
        " * Detect and remove outliers in salary (any salaries too high/low?).\n",
        " * Convert date columns (e.g., \"01-12-2023\" as string → datetime format).\n",
        "\n",
        "3. **Analysis**\n",
        " * What is the average salary of employees?\n",
        " * Which department has the highest average salary?\n",
        " * Which department has the lowest performance scores?\n",
        " * Which job title has the highest average salary?\n",
        "\n",
        "4. **Department-Level Insights**\n",
        " * Which department has the most employees?\n",
        " * What is the salary distribution across departments?\n",
        " * Identify departments with the most missing data."
      ]
    },
    {
      "cell_type": "code",
      "execution_count": 339,
      "metadata": {
        "id": "lpO9ZIBIYzYQ"
      },
      "outputs": [
        {
          "data": {
            "text/html": [
              "<div>\n",
              "<style scoped>\n",
              "    .dataframe tbody tr th:only-of-type {\n",
              "        vertical-align: middle;\n",
              "    }\n",
              "\n",
              "    .dataframe tbody tr th {\n",
              "        vertical-align: top;\n",
              "    }\n",
              "\n",
              "    .dataframe thead th {\n",
              "        text-align: right;\n",
              "    }\n",
              "</style>\n",
              "<table border=\"1\" class=\"dataframe\">\n",
              "  <thead>\n",
              "    <tr style=\"text-align: right;\">\n",
              "      <th></th>\n",
              "      <th>Employee_ID</th>\n",
              "      <th>Name</th>\n",
              "      <th>Department</th>\n",
              "      <th>Job_Title</th>\n",
              "      <th>Salary</th>\n",
              "      <th>Experience_Years</th>\n",
              "      <th>Performance_Score</th>\n",
              "      <th>Join_Date</th>\n",
              "    </tr>\n",
              "  </thead>\n",
              "  <tbody>\n",
              "    <tr>\n",
              "      <th>0</th>\n",
              "      <td>EMP1000</td>\n",
              "      <td>Employee_0</td>\n",
              "      <td>Marketing</td>\n",
              "      <td>Analyst</td>\n",
              "      <td>NaN</td>\n",
              "      <td>NaN</td>\n",
              "      <td>3.0</td>\n",
              "      <td>3/30/2018</td>\n",
              "    </tr>\n",
              "    <tr>\n",
              "      <th>1</th>\n",
              "      <td>EMP1001</td>\n",
              "      <td>Employee_1</td>\n",
              "      <td>Marketing</td>\n",
              "      <td>Coordinator</td>\n",
              "      <td>$70,000</td>\n",
              "      <td>5.0</td>\n",
              "      <td>3.0</td>\n",
              "      <td>NaN</td>\n",
              "    </tr>\n",
              "    <tr>\n",
              "      <th>2</th>\n",
              "      <td>EMP1002</td>\n",
              "      <td>Employee_2</td>\n",
              "      <td>Customer Support</td>\n",
              "      <td>Manager</td>\n",
              "      <td>NaN</td>\n",
              "      <td>15.0</td>\n",
              "      <td>1.0</td>\n",
              "      <td>6/25/2019</td>\n",
              "    </tr>\n",
              "    <tr>\n",
              "      <th>3</th>\n",
              "      <td>EMP1003</td>\n",
              "      <td>Employee_3</td>\n",
              "      <td>Finance</td>\n",
              "      <td>Specialist</td>\n",
              "      <td>NaN</td>\n",
              "      <td>20.0</td>\n",
              "      <td>5.0</td>\n",
              "      <td>1/10/2020</td>\n",
              "    </tr>\n",
              "    <tr>\n",
              "      <th>4</th>\n",
              "      <td>EMP1004</td>\n",
              "      <td>Employee_4</td>\n",
              "      <td>Sales</td>\n",
              "      <td>Analyst</td>\n",
              "      <td>$150,000</td>\n",
              "      <td>15.0</td>\n",
              "      <td>1.0</td>\n",
              "      <td>1/10/2020</td>\n",
              "    </tr>\n",
              "    <tr>\n",
              "      <th>...</th>\n",
              "      <td>...</td>\n",
              "      <td>...</td>\n",
              "      <td>...</td>\n",
              "      <td>...</td>\n",
              "      <td>...</td>\n",
              "      <td>...</td>\n",
              "      <td>...</td>\n",
              "      <td>...</td>\n",
              "    </tr>\n",
              "    <tr>\n",
              "      <th>1015</th>\n",
              "      <td>EMP1899</td>\n",
              "      <td>Employee_899</td>\n",
              "      <td>Customer Support</td>\n",
              "      <td>engineer</td>\n",
              "      <td>$120,000</td>\n",
              "      <td>3.0</td>\n",
              "      <td>NaN</td>\n",
              "      <td>3/30/2018</td>\n",
              "    </tr>\n",
              "    <tr>\n",
              "      <th>1016</th>\n",
              "      <td>EMP1280</td>\n",
              "      <td>Employee_280</td>\n",
              "      <td>Customer Support</td>\n",
              "      <td>engineer</td>\n",
              "      <td>$120,000</td>\n",
              "      <td>1.0</td>\n",
              "      <td>NaN</td>\n",
              "      <td>NaN</td>\n",
              "    </tr>\n",
              "    <tr>\n",
              "      <th>1017</th>\n",
              "      <td>EMP1883</td>\n",
              "      <td>Employee_883</td>\n",
              "      <td>Engineering</td>\n",
              "      <td>coordinator</td>\n",
              "      <td>NaN</td>\n",
              "      <td>NaN</td>\n",
              "      <td>4.0</td>\n",
              "      <td>3/30/2018</td>\n",
              "    </tr>\n",
              "    <tr>\n",
              "      <th>1018</th>\n",
              "      <td>EMP1761</td>\n",
              "      <td>Employee_761</td>\n",
              "      <td>Finance</td>\n",
              "      <td>analyst</td>\n",
              "      <td>$50,000</td>\n",
              "      <td>15.0</td>\n",
              "      <td>5.0</td>\n",
              "      <td>9/15/2021</td>\n",
              "    </tr>\n",
              "    <tr>\n",
              "      <th>1019</th>\n",
              "      <td>EMP1319</td>\n",
              "      <td>Employee_319</td>\n",
              "      <td>Marketing</td>\n",
              "      <td>specialist</td>\n",
              "      <td>$50,000</td>\n",
              "      <td>NaN</td>\n",
              "      <td>5.0</td>\n",
              "      <td>3/30/2018</td>\n",
              "    </tr>\n",
              "  </tbody>\n",
              "</table>\n",
              "<p>1020 rows × 8 columns</p>\n",
              "</div>"
            ],
            "text/plain": [
              "     Employee_ID          Name        Department    Job_Title     Salary  \\\n",
              "0        EMP1000    Employee_0         Marketing      Analyst        NaN   \n",
              "1        EMP1001    Employee_1         Marketing  Coordinator   $70,000    \n",
              "2        EMP1002    Employee_2  Customer Support      Manager        NaN   \n",
              "3        EMP1003    Employee_3           Finance   Specialist        NaN   \n",
              "4        EMP1004    Employee_4             Sales      Analyst  $150,000    \n",
              "...          ...           ...               ...          ...        ...   \n",
              "1015     EMP1899  Employee_899  Customer Support     engineer  $120,000    \n",
              "1016     EMP1280  Employee_280  Customer Support     engineer  $120,000    \n",
              "1017     EMP1883  Employee_883       Engineering  coordinator        NaN   \n",
              "1018     EMP1761  Employee_761           Finance      analyst   $50,000    \n",
              "1019     EMP1319  Employee_319         Marketing   specialist   $50,000    \n",
              "\n",
              "      Experience_Years  Performance_Score  Join_Date  \n",
              "0                  NaN                3.0  3/30/2018  \n",
              "1                  5.0                3.0        NaN  \n",
              "2                 15.0                1.0  6/25/2019  \n",
              "3                 20.0                5.0  1/10/2020  \n",
              "4                 15.0                1.0  1/10/2020  \n",
              "...                ...                ...        ...  \n",
              "1015               3.0                NaN  3/30/2018  \n",
              "1016               1.0                NaN        NaN  \n",
              "1017               NaN                4.0  3/30/2018  \n",
              "1018              15.0                5.0  9/15/2021  \n",
              "1019               NaN                5.0  3/30/2018  \n",
              "\n",
              "[1020 rows x 8 columns]"
            ]
          },
          "execution_count": 339,
          "metadata": {},
          "output_type": "execute_result"
        }
      ],
      "source": [
        "import pandas as pd\n",
        "df =pd.read_csv(\"employee.csv.csv\")\n",
        "df"
      ]
    },
    {
      "cell_type": "code",
      "execution_count": 340,
      "metadata": {},
      "outputs": [
        {
          "data": {
            "text/plain": [
              "1020"
            ]
          },
          "execution_count": 340,
          "metadata": {},
          "output_type": "execute_result"
        }
      ],
      "source": [
        "\n",
        "num_employees=df.shape[0]\n",
        "num_employees"
      ]
    },
    {
      "cell_type": "code",
      "execution_count": 341,
      "metadata": {},
      "outputs": [
        {
          "data": {
            "text/plain": [
              "Employee_ID            0\n",
              "Name                   0\n",
              "Department             0\n",
              "Job_Title              0\n",
              "Salary               123\n",
              "Experience_Years     136\n",
              "Performance_Score    162\n",
              "Join_Date            157\n",
              "dtype: int64"
            ]
          },
          "execution_count": 341,
          "metadata": {},
          "output_type": "execute_result"
        }
      ],
      "source": [
        "missing_vallues=df.isnull().sum()\n",
        "missing_vallues"
      ]
    },
    {
      "cell_type": "code",
      "execution_count": 342,
      "metadata": {},
      "outputs": [
        {
          "data": {
            "text/plain": [
              "array(['Marketing', 'Customer Support', 'Finance', 'Sales', 'Engineering',\n",
              "       'HR'], dtype=object)"
            ]
          },
          "execution_count": 342,
          "metadata": {},
          "output_type": "execute_result"
        }
      ],
      "source": [
        "Unique_job_titles=df['Job_Title'].unique()\n",
        "Unique_departments=df['Department'].unique()\n",
        "Unique_job_titles\n",
        "Unique_departments"
      ]
    },
    {
      "cell_type": "code",
      "execution_count": 343,
      "metadata": {},
      "outputs": [
        {
          "data": {
            "text/html": [
              "<div>\n",
              "<style scoped>\n",
              "    .dataframe tbody tr th:only-of-type {\n",
              "        vertical-align: middle;\n",
              "    }\n",
              "\n",
              "    .dataframe tbody tr th {\n",
              "        vertical-align: top;\n",
              "    }\n",
              "\n",
              "    .dataframe thead th {\n",
              "        text-align: right;\n",
              "    }\n",
              "</style>\n",
              "<table border=\"1\" class=\"dataframe\">\n",
              "  <thead>\n",
              "    <tr style=\"text-align: right;\">\n",
              "      <th></th>\n",
              "      <th>Employee_ID</th>\n",
              "      <th>Name</th>\n",
              "      <th>Department</th>\n",
              "      <th>Job_Title</th>\n",
              "      <th>Salary</th>\n",
              "      <th>Experience_Years</th>\n",
              "      <th>Performance_Score</th>\n",
              "      <th>Join_Date</th>\n",
              "    </tr>\n",
              "  </thead>\n",
              "  <tbody>\n",
              "    <tr>\n",
              "      <th>0</th>\n",
              "      <td>EMP1000</td>\n",
              "      <td>Employee_0</td>\n",
              "      <td>Marketing</td>\n",
              "      <td>Analyst</td>\n",
              "      <td>NaN</td>\n",
              "      <td>NaN</td>\n",
              "      <td>3.0</td>\n",
              "      <td>3/30/2018</td>\n",
              "    </tr>\n",
              "    <tr>\n",
              "      <th>1</th>\n",
              "      <td>EMP1001</td>\n",
              "      <td>Employee_1</td>\n",
              "      <td>Marketing</td>\n",
              "      <td>Coordinator</td>\n",
              "      <td>$70,000</td>\n",
              "      <td>5.0</td>\n",
              "      <td>3.0</td>\n",
              "      <td>NaN</td>\n",
              "    </tr>\n",
              "    <tr>\n",
              "      <th>2</th>\n",
              "      <td>EMP1002</td>\n",
              "      <td>Employee_2</td>\n",
              "      <td>Customer Support</td>\n",
              "      <td>Manager</td>\n",
              "      <td>NaN</td>\n",
              "      <td>15.0</td>\n",
              "      <td>1.0</td>\n",
              "      <td>6/25/2019</td>\n",
              "    </tr>\n",
              "    <tr>\n",
              "      <th>3</th>\n",
              "      <td>EMP1003</td>\n",
              "      <td>Employee_3</td>\n",
              "      <td>Finance</td>\n",
              "      <td>Specialist</td>\n",
              "      <td>NaN</td>\n",
              "      <td>20.0</td>\n",
              "      <td>5.0</td>\n",
              "      <td>1/10/2020</td>\n",
              "    </tr>\n",
              "    <tr>\n",
              "      <th>4</th>\n",
              "      <td>EMP1004</td>\n",
              "      <td>Employee_4</td>\n",
              "      <td>Sales</td>\n",
              "      <td>Analyst</td>\n",
              "      <td>$150,000</td>\n",
              "      <td>15.0</td>\n",
              "      <td>1.0</td>\n",
              "      <td>1/10/2020</td>\n",
              "    </tr>\n",
              "    <tr>\n",
              "      <th>...</th>\n",
              "      <td>...</td>\n",
              "      <td>...</td>\n",
              "      <td>...</td>\n",
              "      <td>...</td>\n",
              "      <td>...</td>\n",
              "      <td>...</td>\n",
              "      <td>...</td>\n",
              "      <td>...</td>\n",
              "    </tr>\n",
              "    <tr>\n",
              "      <th>996</th>\n",
              "      <td>EMP1996</td>\n",
              "      <td>Employee_996</td>\n",
              "      <td>Sales</td>\n",
              "      <td>Executive</td>\n",
              "      <td>$120,000</td>\n",
              "      <td>20.0</td>\n",
              "      <td>1.0</td>\n",
              "      <td>NaN</td>\n",
              "    </tr>\n",
              "    <tr>\n",
              "      <th>997</th>\n",
              "      <td>EMP1997</td>\n",
              "      <td>Employee_997</td>\n",
              "      <td>Engineering</td>\n",
              "      <td>Manager</td>\n",
              "      <td>$120,000</td>\n",
              "      <td>NaN</td>\n",
              "      <td>5.0</td>\n",
              "      <td>NaN</td>\n",
              "    </tr>\n",
              "    <tr>\n",
              "      <th>998</th>\n",
              "      <td>EMP1998</td>\n",
              "      <td>Employee_998</td>\n",
              "      <td>Sales</td>\n",
              "      <td>specialist</td>\n",
              "      <td>$60,000</td>\n",
              "      <td>5.0</td>\n",
              "      <td>2.0</td>\n",
              "      <td>7/20/2017</td>\n",
              "    </tr>\n",
              "    <tr>\n",
              "      <th>999</th>\n",
              "      <td>EMP1999</td>\n",
              "      <td>Employee_999</td>\n",
              "      <td>Engineering</td>\n",
              "      <td>Manager</td>\n",
              "      <td>$45,000</td>\n",
              "      <td>10.0</td>\n",
              "      <td>NaN</td>\n",
              "      <td>NaN</td>\n",
              "    </tr>\n",
              "    <tr>\n",
              "      <th>1013</th>\n",
              "      <td>EMP1973</td>\n",
              "      <td>Employee_973</td>\n",
              "      <td>Customer Support</td>\n",
              "      <td>coordinator</td>\n",
              "      <td>$150,000</td>\n",
              "      <td>10.0</td>\n",
              "      <td>1.0</td>\n",
              "      <td>1/10/2020</td>\n",
              "    </tr>\n",
              "  </tbody>\n",
              "</table>\n",
              "<p>1001 rows × 8 columns</p>\n",
              "</div>"
            ],
            "text/plain": [
              "     Employee_ID          Name        Department    Job_Title     Salary  \\\n",
              "0        EMP1000    Employee_0         Marketing      Analyst        NaN   \n",
              "1        EMP1001    Employee_1         Marketing  Coordinator   $70,000    \n",
              "2        EMP1002    Employee_2  Customer Support      Manager        NaN   \n",
              "3        EMP1003    Employee_3           Finance   Specialist        NaN   \n",
              "4        EMP1004    Employee_4             Sales      Analyst  $150,000    \n",
              "...          ...           ...               ...          ...        ...   \n",
              "996      EMP1996  Employee_996             Sales    Executive  $120,000    \n",
              "997      EMP1997  Employee_997       Engineering      Manager  $120,000    \n",
              "998      EMP1998  Employee_998             Sales   specialist   $60,000    \n",
              "999      EMP1999  Employee_999       Engineering      Manager   $45,000    \n",
              "1013     EMP1973  Employee_973  Customer Support  coordinator  $150,000    \n",
              "\n",
              "      Experience_Years  Performance_Score  Join_Date  \n",
              "0                  NaN                3.0  3/30/2018  \n",
              "1                  5.0                3.0        NaN  \n",
              "2                 15.0                1.0  6/25/2019  \n",
              "3                 20.0                5.0  1/10/2020  \n",
              "4                 15.0                1.0  1/10/2020  \n",
              "...                ...                ...        ...  \n",
              "996               20.0                1.0        NaN  \n",
              "997                NaN                5.0        NaN  \n",
              "998                5.0                2.0  7/20/2017  \n",
              "999               10.0                NaN        NaN  \n",
              "1013              10.0                1.0  1/10/2020  \n",
              "\n",
              "[1001 rows x 8 columns]"
            ]
          },
          "execution_count": 343,
          "metadata": {},
          "output_type": "execute_result"
        }
      ],
      "source": [
        "#remove duplicate employee records\n",
        "df_cleaned=df.drop_duplicates()\n",
        "df_cleaned"
      ]
    },
    {
      "cell_type": "code",
      "execution_count": 344,
      "metadata": {},
      "outputs": [
        {
          "name": "stderr",
          "output_type": "stream",
          "text": [
            "<>:2: SyntaxWarning: invalid escape sequence '\\$'\n",
            "<>:2: SyntaxWarning: invalid escape sequence '\\$'\n",
            "C:\\Users\\USER\\AppData\\Local\\Temp\\ipykernel_29328\\382536067.py:2: SyntaxWarning: invalid escape sequence '\\$'\n",
            "  df_cleaned[\"Salary\"] = df_cleaned[\"Salary\"].replace('[\\$,]')\n",
            "C:\\Users\\USER\\AppData\\Local\\Temp\\ipykernel_29328\\382536067.py:2: FutureWarning: Series.replace without 'value' and with non-dict-like 'to_replace' is deprecated and will raise in a future version. Explicitly specify the new values instead.\n",
            "  df_cleaned[\"Salary\"] = df_cleaned[\"Salary\"].replace('[\\$,]')\n",
            "C:\\Users\\USER\\AppData\\Local\\Temp\\ipykernel_29328\\382536067.py:2: SettingWithCopyWarning: \n",
            "A value is trying to be set on a copy of a slice from a DataFrame.\n",
            "Try using .loc[row_indexer,col_indexer] = value instead\n",
            "\n",
            "See the caveats in the documentation: https://pandas.pydata.org/pandas-docs/stable/user_guide/indexing.html#returning-a-view-versus-a-copy\n",
            "  df_cleaned[\"Salary\"] = df_cleaned[\"Salary\"].replace('[\\$,]')\n",
            "C:\\Users\\USER\\AppData\\Local\\Temp\\ipykernel_29328\\382536067.py:3: SettingWithCopyWarning: \n",
            "A value is trying to be set on a copy of a slice from a DataFrame.\n",
            "Try using .loc[row_indexer,col_indexer] = value instead\n",
            "\n",
            "See the caveats in the documentation: https://pandas.pydata.org/pandas-docs/stable/user_guide/indexing.html#returning-a-view-versus-a-copy\n",
            "  df_cleaned['Salary'] = pd.to_numeric(df_cleaned['Salary'],errors='coerce')\n"
          ]
        },
        {
          "data": {
            "text/plain": [
              "0      NaN\n",
              "1      NaN\n",
              "2      NaN\n",
              "3      NaN\n",
              "4      NaN\n",
              "        ..\n",
              "996    NaN\n",
              "997    NaN\n",
              "998    NaN\n",
              "999    NaN\n",
              "1013   NaN\n",
              "Name: Salary, Length: 1001, dtype: float64"
            ]
          },
          "execution_count": 344,
          "metadata": {},
          "output_type": "execute_result"
        }
      ],
      "source": [
        "#convert salary to numeric\n",
        "df_cleaned[\"Salary\"] = df_cleaned[\"Salary\"].replace('[\\$,]')\n",
        "df_cleaned['Salary'] = pd.to_numeric(df_cleaned['Salary'],errors='coerce')\n",
        "df_cleaned['Salary']\n"
      ]
    },
    {
      "cell_type": "code",
      "execution_count": 345,
      "metadata": {},
      "outputs": [
        {
          "name": "stderr",
          "output_type": "stream",
          "text": [
            "C:\\Users\\USER\\AppData\\Local\\Temp\\ipykernel_29328\\623898913.py:1: SettingWithCopyWarning: \n",
            "A value is trying to be set on a copy of a slice from a DataFrame.\n",
            "Try using .loc[row_indexer,col_indexer] = value instead\n",
            "\n",
            "See the caveats in the documentation: https://pandas.pydata.org/pandas-docs/stable/user_guide/indexing.html#returning-a-view-versus-a-copy\n",
            "  df_cleaned[\"Job_Title\"] = df_cleaned[\"Job_Title\"].str.capitalize()\n"
          ]
        },
        {
          "data": {
            "text/plain": [
              "0           Analyst\n",
              "1       Coordinator\n",
              "2           Manager\n",
              "3        Specialist\n",
              "4           Analyst\n",
              "           ...     \n",
              "996       Executive\n",
              "997         Manager\n",
              "998      Specialist\n",
              "999         Manager\n",
              "1013    Coordinator\n",
              "Name: Job_Title, Length: 1001, dtype: object"
            ]
          },
          "execution_count": 345,
          "metadata": {},
          "output_type": "execute_result"
        }
      ],
      "source": [
        "df_cleaned[\"Job_Title\"] = df_cleaned[\"Job_Title\"].str.capitalize()\n",
        "df_cleaned[\"Job_Title\"]"
      ]
    },
    {
      "cell_type": "code",
      "execution_count": 2,
      "metadata": {},
      "outputs": [
        {
          "ename": "NameError",
          "evalue": "name 'df_cleaned' is not defined",
          "output_type": "error",
          "traceback": [
            "\u001b[1;31m---------------------------------------------------------------------------\u001b[0m",
            "\u001b[1;31mNameError\u001b[0m                                 Traceback (most recent call last)",
            "Cell \u001b[1;32mIn[2], line 2\u001b[0m\n\u001b[0;32m      1\u001b[0m \u001b[38;5;66;03m#check missing vallues\u001b[39;00m\n\u001b[1;32m----> 2\u001b[0m mode\u001b[38;5;241m=\u001b[39m\u001b[43mdf_cleaned\u001b[49m[\u001b[38;5;124m'\u001b[39m\u001b[38;5;124mPerformance_Score\u001b[39m\u001b[38;5;124m'\u001b[39m]\u001b[38;5;241m.\u001b[39mmode()\n\u001b[0;32m      4\u001b[0m \u001b[38;5;66;03m#fill missing vallues in performance\u001b[39;00m\n\u001b[0;32m      5\u001b[0m df_cleaned[\u001b[38;5;124m'\u001b[39m\u001b[38;5;124mPerformance_Score\u001b[39m\u001b[38;5;124m'\u001b[39m]\u001b[38;5;241m=\u001b[39mdf_cleaned[\u001b[38;5;124m'\u001b[39m\u001b[38;5;124mPerformance_Score\u001b[39m\u001b[38;5;124m'\u001b[39m]\u001b[38;5;241m.\u001b[39mfillna(mode[\u001b[38;5;241m0\u001b[39m])\n",
            "\u001b[1;31mNameError\u001b[0m: name 'df_cleaned' is not defined"
          ]
        }
      ],
      "source": [
        "#check missing vallues\n",
        "mode=df_cleaned['Performance_Score'].mode()\n",
        "\n",
        "#fill missing vallues in performance\n",
        "df_cleaned['Performance_Score']=df_cleaned['Performance_Score'].fillna(mode[0])\n",
        "df_cleaned['Performance_Score']"
      ]
    },
    {
      "cell_type": "code",
      "execution_count": 347,
      "metadata": {},
      "outputs": [],
      "source": [
        "#Remove Outliers\n"
      ]
    },
    {
      "cell_type": "code",
      "execution_count": 348,
      "metadata": {},
      "outputs": [
        {
          "name": "stderr",
          "output_type": "stream",
          "text": [
            "C:\\Users\\USER\\AppData\\Local\\Temp\\ipykernel_29328\\4239629010.py:2: SettingWithCopyWarning: \n",
            "A value is trying to be set on a copy of a slice from a DataFrame.\n",
            "Try using .loc[row_indexer,col_indexer] = value instead\n",
            "\n",
            "See the caveats in the documentation: https://pandas.pydata.org/pandas-docs/stable/user_guide/indexing.html#returning-a-view-versus-a-copy\n",
            "  df_cleaned[\"Join_Date\"] = pd.to_datetime(df_cleaned[\"Join_Date\"])\n"
          ]
        },
        {
          "data": {
            "text/plain": [
              "0      2018-03-30\n",
              "1             NaT\n",
              "2      2019-06-25\n",
              "3      2020-01-10\n",
              "4      2020-01-10\n",
              "          ...    \n",
              "996           NaT\n",
              "997           NaT\n",
              "998    2017-07-20\n",
              "999           NaT\n",
              "1013   2020-01-10\n",
              "Name: Join_Date, Length: 1001, dtype: datetime64[ns]"
            ]
          },
          "execution_count": 348,
          "metadata": {},
          "output_type": "execute_result"
        }
      ],
      "source": [
        "#convert date columns\n",
        "df_cleaned[\"Join_Date\"] = pd.to_datetime(df_cleaned[\"Join_Date\"])\n",
        "df_cleaned[\"Join_Date\"]"
      ]
    },
    {
      "cell_type": "code",
      "execution_count": 349,
      "metadata": {},
      "outputs": [
        {
          "data": {
            "text/plain": [
              "nan"
            ]
          },
          "execution_count": 349,
          "metadata": {},
          "output_type": "execute_result"
        }
      ],
      "source": [
        "\n",
        "Average_Salary = df_cleaned['Salary'].mean()\n",
        "Average_Salary"
      ]
    },
    {
      "cell_type": "code",
      "execution_count": 350,
      "metadata": {},
      "outputs": [
        {
          "name": "stderr",
          "output_type": "stream",
          "text": [
            "C:\\Users\\USER\\AppData\\Local\\Temp\\ipykernel_29328\\3657112436.py:1: FutureWarning: The behavior of Series.idxmax with all-NA values, or any-NA and skipna=False, is deprecated. In a future version this will raise ValueError\n",
            "  Highest_salary=df_cleaned.groupby('Department')['Salary'].mean().idxmax()\n"
          ]
        },
        {
          "data": {
            "text/plain": [
              "nan"
            ]
          },
          "execution_count": 350,
          "metadata": {},
          "output_type": "execute_result"
        }
      ],
      "source": [
        "Highest_salary=df_cleaned.groupby('Department')['Salary'].mean().idxmax()\n",
        "Highest_salary"
      ]
    },
    {
      "cell_type": "code",
      "execution_count": 351,
      "metadata": {},
      "outputs": [
        {
          "data": {
            "text/plain": [
              "'Customer Support'"
            ]
          },
          "execution_count": 351,
          "metadata": {},
          "output_type": "execute_result"
        }
      ],
      "source": [
        "Lowest_salary = df_cleaned.groupby(\"Department\")['Performance_Score'].mean().idxmin()\n",
        "Lowest_salary"
      ]
    },
    {
      "cell_type": "code",
      "execution_count": 352,
      "metadata": {},
      "outputs": [
        {
          "name": "stderr",
          "output_type": "stream",
          "text": [
            "C:\\Users\\USER\\AppData\\Local\\Temp\\ipykernel_29328\\3763018612.py:1: FutureWarning: The behavior of Series.idxmax with all-NA values, or any-NA and skipna=False, is deprecated. In a future version this will raise ValueError\n",
            "  job_highest_salary = df_cleaned.groupby(\"Job_Title\")[\"Salary\"].mean().idxmax()\n"
          ]
        },
        {
          "data": {
            "text/plain": [
              "nan"
            ]
          },
          "execution_count": 352,
          "metadata": {},
          "output_type": "execute_result"
        }
      ],
      "source": [
        "job_highest_salary = df_cleaned.groupby(\"Job_Title\")[\"Salary\"].mean().idxmax()\n",
        "job_highest_salary"
      ]
    },
    {
      "cell_type": "code",
      "execution_count": 353,
      "metadata": {},
      "outputs": [
        {
          "data": {
            "text/plain": [
              "'Customer Support'"
            ]
          },
          "execution_count": 353,
          "metadata": {},
          "output_type": "execute_result"
        }
      ],
      "source": [
        "department_most_employees = df_cleaned[\"Department\"].value_counts().idxmax()\n",
        "department_most_employees"
      ]
    },
    {
      "cell_type": "code",
      "execution_count": 354,
      "metadata": {},
      "outputs": [
        {
          "data": {
            "text/html": [
              "<div>\n",
              "<style scoped>\n",
              "    .dataframe tbody tr th:only-of-type {\n",
              "        vertical-align: middle;\n",
              "    }\n",
              "\n",
              "    .dataframe tbody tr th {\n",
              "        vertical-align: top;\n",
              "    }\n",
              "\n",
              "    .dataframe thead th {\n",
              "        text-align: right;\n",
              "    }\n",
              "</style>\n",
              "<table border=\"1\" class=\"dataframe\">\n",
              "  <thead>\n",
              "    <tr style=\"text-align: right;\">\n",
              "      <th></th>\n",
              "      <th>count</th>\n",
              "      <th>mean</th>\n",
              "      <th>std</th>\n",
              "      <th>min</th>\n",
              "      <th>25%</th>\n",
              "      <th>50%</th>\n",
              "      <th>75%</th>\n",
              "      <th>max</th>\n",
              "    </tr>\n",
              "    <tr>\n",
              "      <th>Department</th>\n",
              "      <th></th>\n",
              "      <th></th>\n",
              "      <th></th>\n",
              "      <th></th>\n",
              "      <th></th>\n",
              "      <th></th>\n",
              "      <th></th>\n",
              "      <th></th>\n",
              "    </tr>\n",
              "  </thead>\n",
              "  <tbody>\n",
              "    <tr>\n",
              "      <th>Customer Support</th>\n",
              "      <td>0.0</td>\n",
              "      <td>NaN</td>\n",
              "      <td>NaN</td>\n",
              "      <td>NaN</td>\n",
              "      <td>NaN</td>\n",
              "      <td>NaN</td>\n",
              "      <td>NaN</td>\n",
              "      <td>NaN</td>\n",
              "    </tr>\n",
              "    <tr>\n",
              "      <th>Engineering</th>\n",
              "      <td>0.0</td>\n",
              "      <td>NaN</td>\n",
              "      <td>NaN</td>\n",
              "      <td>NaN</td>\n",
              "      <td>NaN</td>\n",
              "      <td>NaN</td>\n",
              "      <td>NaN</td>\n",
              "      <td>NaN</td>\n",
              "    </tr>\n",
              "    <tr>\n",
              "      <th>Finance</th>\n",
              "      <td>0.0</td>\n",
              "      <td>NaN</td>\n",
              "      <td>NaN</td>\n",
              "      <td>NaN</td>\n",
              "      <td>NaN</td>\n",
              "      <td>NaN</td>\n",
              "      <td>NaN</td>\n",
              "      <td>NaN</td>\n",
              "    </tr>\n",
              "    <tr>\n",
              "      <th>HR</th>\n",
              "      <td>0.0</td>\n",
              "      <td>NaN</td>\n",
              "      <td>NaN</td>\n",
              "      <td>NaN</td>\n",
              "      <td>NaN</td>\n",
              "      <td>NaN</td>\n",
              "      <td>NaN</td>\n",
              "      <td>NaN</td>\n",
              "    </tr>\n",
              "    <tr>\n",
              "      <th>Marketing</th>\n",
              "      <td>0.0</td>\n",
              "      <td>NaN</td>\n",
              "      <td>NaN</td>\n",
              "      <td>NaN</td>\n",
              "      <td>NaN</td>\n",
              "      <td>NaN</td>\n",
              "      <td>NaN</td>\n",
              "      <td>NaN</td>\n",
              "    </tr>\n",
              "    <tr>\n",
              "      <th>Sales</th>\n",
              "      <td>0.0</td>\n",
              "      <td>NaN</td>\n",
              "      <td>NaN</td>\n",
              "      <td>NaN</td>\n",
              "      <td>NaN</td>\n",
              "      <td>NaN</td>\n",
              "      <td>NaN</td>\n",
              "      <td>NaN</td>\n",
              "    </tr>\n",
              "  </tbody>\n",
              "</table>\n",
              "</div>"
            ],
            "text/plain": [
              "                  count  mean  std  min  25%  50%  75%  max\n",
              "Department                                                 \n",
              "Customer Support    0.0   NaN  NaN  NaN  NaN  NaN  NaN  NaN\n",
              "Engineering         0.0   NaN  NaN  NaN  NaN  NaN  NaN  NaN\n",
              "Finance             0.0   NaN  NaN  NaN  NaN  NaN  NaN  NaN\n",
              "HR                  0.0   NaN  NaN  NaN  NaN  NaN  NaN  NaN\n",
              "Marketing           0.0   NaN  NaN  NaN  NaN  NaN  NaN  NaN\n",
              "Sales               0.0   NaN  NaN  NaN  NaN  NaN  NaN  NaN"
            ]
          },
          "execution_count": 354,
          "metadata": {},
          "output_type": "execute_result"
        }
      ],
      "source": [
        "#Salary distribution accross departments \n",
        "distribution = df_cleaned.groupby(\"Department\")[\"Salary\"].describe()\n",
        "distribution"
      ]
    },
    {
      "cell_type": "code",
      "execution_count": 355,
      "metadata": {},
      "outputs": [
        {
          "data": {
            "text/html": [
              "<div>\n",
              "<style scoped>\n",
              "    .dataframe tbody tr th:only-of-type {\n",
              "        vertical-align: middle;\n",
              "    }\n",
              "\n",
              "    .dataframe tbody tr th {\n",
              "        vertical-align: top;\n",
              "    }\n",
              "\n",
              "    .dataframe thead th {\n",
              "        text-align: right;\n",
              "    }\n",
              "</style>\n",
              "<table border=\"1\" class=\"dataframe\">\n",
              "  <thead>\n",
              "    <tr style=\"text-align: right;\">\n",
              "      <th></th>\n",
              "      <th>Employee_ID</th>\n",
              "      <th>Name</th>\n",
              "      <th>Department</th>\n",
              "      <th>Job_Title</th>\n",
              "      <th>Salary</th>\n",
              "      <th>Experience_Years</th>\n",
              "      <th>Performance_Score</th>\n",
              "      <th>Join_Date</th>\n",
              "    </tr>\n",
              "    <tr>\n",
              "      <th>Department</th>\n",
              "      <th></th>\n",
              "      <th></th>\n",
              "      <th></th>\n",
              "      <th></th>\n",
              "      <th></th>\n",
              "      <th></th>\n",
              "      <th></th>\n",
              "      <th></th>\n",
              "    </tr>\n",
              "  </thead>\n",
              "  <tbody>\n",
              "    <tr>\n",
              "      <th>Customer Support</th>\n",
              "      <td>0</td>\n",
              "      <td>0</td>\n",
              "      <td>0</td>\n",
              "      <td>0</td>\n",
              "      <td>178</td>\n",
              "      <td>19</td>\n",
              "      <td>0</td>\n",
              "      <td>31</td>\n",
              "    </tr>\n",
              "    <tr>\n",
              "      <th>Engineering</th>\n",
              "      <td>0</td>\n",
              "      <td>0</td>\n",
              "      <td>0</td>\n",
              "      <td>0</td>\n",
              "      <td>156</td>\n",
              "      <td>25</td>\n",
              "      <td>0</td>\n",
              "      <td>22</td>\n",
              "    </tr>\n",
              "    <tr>\n",
              "      <th>Finance</th>\n",
              "      <td>0</td>\n",
              "      <td>0</td>\n",
              "      <td>0</td>\n",
              "      <td>0</td>\n",
              "      <td>159</td>\n",
              "      <td>24</td>\n",
              "      <td>0</td>\n",
              "      <td>21</td>\n",
              "    </tr>\n",
              "    <tr>\n",
              "      <th>HR</th>\n",
              "      <td>0</td>\n",
              "      <td>0</td>\n",
              "      <td>0</td>\n",
              "      <td>0</td>\n",
              "      <td>166</td>\n",
              "      <td>26</td>\n",
              "      <td>0</td>\n",
              "      <td>30</td>\n",
              "    </tr>\n",
              "    <tr>\n",
              "      <th>Marketing</th>\n",
              "      <td>0</td>\n",
              "      <td>0</td>\n",
              "      <td>0</td>\n",
              "      <td>0</td>\n",
              "      <td>166</td>\n",
              "      <td>24</td>\n",
              "      <td>0</td>\n",
              "      <td>26</td>\n",
              "    </tr>\n",
              "    <tr>\n",
              "      <th>Sales</th>\n",
              "      <td>0</td>\n",
              "      <td>0</td>\n",
              "      <td>0</td>\n",
              "      <td>0</td>\n",
              "      <td>176</td>\n",
              "      <td>16</td>\n",
              "      <td>0</td>\n",
              "      <td>23</td>\n",
              "    </tr>\n",
              "  </tbody>\n",
              "</table>\n",
              "</div>"
            ],
            "text/plain": [
              "                  Employee_ID  Name  Department  Job_Title  Salary  \\\n",
              "Department                                                           \n",
              "Customer Support            0     0           0          0     178   \n",
              "Engineering                 0     0           0          0     156   \n",
              "Finance                     0     0           0          0     159   \n",
              "HR                          0     0           0          0     166   \n",
              "Marketing                   0     0           0          0     166   \n",
              "Sales                       0     0           0          0     176   \n",
              "\n",
              "                  Experience_Years  Performance_Score  Join_Date  \n",
              "Department                                                        \n",
              "Customer Support                19                  0         31  \n",
              "Engineering                     25                  0         22  \n",
              "Finance                         24                  0         21  \n",
              "HR                              26                  0         30  \n",
              "Marketing                       24                  0         26  \n",
              "Sales                           16                  0         23  "
            ]
          },
          "execution_count": 355,
          "metadata": {},
          "output_type": "execute_result"
        }
      ],
      "source": [
        "#departments with the most missing data\n",
        "missing_data = df_cleaned.isnull().groupby(df_cleaned[\"Department\"]).sum()\n",
        "missing_data\n"
      ]
    }
  ],
  "metadata": {
    "colab": {
      "provenance": []
    },
    "kernelspec": {
      "display_name": "Python 3",
      "name": "python3"
    },
    "language_info": {
      "codemirror_mode": {
        "name": "ipython",
        "version": 3
      },
      "file_extension": ".py",
      "mimetype": "text/x-python",
      "name": "python",
      "nbconvert_exporter": "python",
      "pygments_lexer": "ipython3",
      "version": "3.13.0"
    }
  },
  "nbformat": 4,
  "nbformat_minor": 0
}
