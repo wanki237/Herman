{
 "cells": [
  {
   "cell_type": "markdown",
   "id": "07c496a3-d3be-489c-9c14-91c503012349",
   "metadata": {},
   "source": [
    "# Assignment to be completed before Thursday 26th Feb 2025, latest 8:00 PM"
   ]
  },
  {
   "cell_type": "markdown",
   "id": "0a8e2bd7-1d26-4123-b76d-5b55bf807691",
   "metadata": {},
   "source": [
    "## Exercise 1: Library Management System\n",
    "Create a library system where books can be borrowed \n",
    "and returned by students. Use dictionaries to track borrowed books.\n",
    "\n",
    "### Requirements:\n",
    "Define three classes\n",
    "\n",
    "* Book: Represents a book with attributes title, author, and book_id.\n",
    "\n",
    "* Student: Represents a student with attributes name and student_id.\n",
    "\n",
    "* Library: Manages the collection of books and tracks which books are borrowed by which students.\n",
    "\n",
    "### Add methods to:\n",
    "\n",
    "* Borrow a book (check if the book is available).\n",
    "\n",
    "* Return a book.\n",
    "\n",
    "* Display all books borrowed by a student.\n",
    "\n",
    "* Display all available books in the library.\n",
    "\n",
    "Use dictionaries to store relationships between books and students.en books and students. method."
   ]
  },
  {
   "cell_type": "code",
   "execution_count": 34,
   "id": "0f1c90d6-a49e-49af-9bf8-5377d30b70e1",
   "metadata": {},
   "outputs": [
    {
     "name": "stdout",
     "output_type": "stream",
     "text": [
      " A MATHS book by warren buffert with an id number 2022\n",
      "['FRENCH']\n",
      "['FRENCH', 'MATHS']\n",
      "['FRENCH', 'MATHS', 'BIOLOGY']\n",
      "['FRENCH', 'MATHS', 'BIOLOGY']\n",
      "['FRENCH', 'MATHS']\n",
      "the borrowed book is  MATHS\n"
     ]
    }
   ],
   "source": [
    "\n",
    "class book :\n",
    "    def __init__(self,title,author,book_id):\n",
    "        self.title=title\n",
    "        self.author=author\n",
    "        self.book_id=book_id\n",
    "        self.books=[]\n",
    "\n",
    "    def displaybook(self):\n",
    "        print(f\" A {self.title} book by {self.author} with an id number {self.book_id}\")\n",
    "    def addbooks(self,books):\n",
    "        self.books.append(books)\n",
    "    def displaybooks(self):\n",
    "        print(self.books)\n",
    "\n",
    "c1=book(\"MATHS\",\"warren buffert\",2022)\n",
    "c1.displaybook()\n",
    "c1.addbooks(\"FRENCH\")\n",
    "c1.displaybooks()\n",
    "c1.addbooks(\"MATHS\")\n",
    "c1.displaybooks()            \n",
    "c1.addbooks(\"BIOLOGY\")\n",
    "c1.displaybooks()\n",
    "\n",
    "\n",
    "A=c1.displaybooks()\n",
    "\n",
    "    \n",
    "class student:\n",
    "    def __init__(self,name,student_id):\n",
    "        self.name=name\n",
    "        self.student_id=student_id\n",
    "class library:\n",
    "    def __init__(self,avalaiblebooks,borrowbook):\n",
    "        self.borrowbook=borrowbook\n",
    "        #Borrow book\n",
    "    def borrowbook(self):\n",
    "        print(self.borrowbook)\n",
    "\n",
    "c1.books.pop(-1)\n",
    "c1.displaybooks()  \n",
    "#display borrowed book    \n",
    "s= c1.books.pop(-1) \n",
    "print(\"the borrowed book is \", s)\n",
    "      \n",
    "\n"
   ]
  },
  {
   "cell_type": "markdown",
   "id": "42d385c6-7132-4220-a4e8-bc7fea1f1f3c",
   "metadata": {},
   "source": [
    "## Exercise2: Grade Caculator\n",
    "\n",
    "Create a Student class that stores a student's name, ID, and a list of grades. Implement methods to calculate the average, median, and mode of the grades manually.\n",
    "\n",
    "### Requirements:\n",
    "Define a Student class with attributes: name, student_id, and grades.\n",
    "\n",
    "Add methods to:\n",
    "\n",
    "* Add a grade to the student's list of grades.\n",
    "\n",
    "* Calculate the average grade.\n",
    "\n",
    "* Calculate the median grade.\n",
    "\n",
    "* Calculate the mode grade.\n",
    "\n",
    "* Create a few Student objects and test the methods."
   ]
  },
  {
   "cell_type": "code",
   "execution_count": null,
   "id": "78eaf6cd-e161-48da-8c8d-098a527dcf5b",
   "metadata": {},
   "outputs": [
    {
     "name": "stdout",
     "output_type": "stream",
     "text": [
      "['A']\n",
      "['A', 'B']\n",
      "['A', 'B', 'C']\n",
      "<bound method student.averagegrades of <__main__.student object at 0x0000028CBB4E78C0>>\n"
     ]
    }
   ],
   "source": [
    "class student :\n",
    "    def __init__(self,name,student_id,grades):\n",
    "        self.name=name\n",
    "        self.student_id=id\n",
    "        self.grades=[]\n",
    "\n",
    "    def addgrades(self,grades):\n",
    "        self.grades.append(grades)\n",
    "    def displaygrades(self):\n",
    "        print(self.grades)\n",
    "    def averagegrades(self):\n",
    "        for A in range (70,100):\n",
    "            print(A)\n",
    "            for B in range (60,69):\n",
    "                print(B)\n",
    "                for C in range (49,59):\n",
    "                    print(C)\n",
    "        averagegrades=(A+B+C)/3\n",
    "    def displayaveragegrades(self):\n",
    "        print(self.averagegrades)\n",
    "            \n",
    "        \n",
    "\n",
    "c1=student(\"A\",\"B\",\"C\",)\n",
    "c1.addgrades(\"A\")\n",
    "c1.displaygrades()\n",
    "c1.addgrades(\"B\")\n",
    "c1.displaygrades()\n",
    "c1.addgrades(\"C\")\n",
    "c1.displaygrades()\n",
    "\n",
    "\n",
    "c1.displayaveragegrades()\n"
   ]
  },
  {
   "cell_type": "code",
   "execution_count": null,
   "id": "31da73ee-8394-44c3-8ebd-f98bba6765eb",
   "metadata": {},
   "outputs": [],
   "source": [
    "## Exercise 3:\n",
    "Make short Notes on Regular Expressions"
   ]
  },
  {
   "cell_type": "markdown",
   "id": "c87aee79-8341-4b26-a8cb-bc89ae29a1f9",
   "metadata": {},
   "source": [
    "\n",
    "A Regular Expression is a special sequence of characters that uses a search pattern to find a string or set of strings.\n",
    "It can detect the presence or absence of a text by matching it with a particular pattern and also can split a pattern into one or more sub-pattern\n",
    "\n",
    "Before starting with the Python regex module let’s see how to actually write regex using metacharacters or special sequences. \n",
    "\n",
    "RegEx Functions\n",
    "re module contains many functions that help us to search a string for a match which are\n",
    "1. re.findall(): It returns returns a list of strings containing all matches\n",
    "Example:\n",
    " a program to extract numbers from a string\n",
    "\n",
    "import re\n",
    "string = ‘hello 12 hi 89. Howdy 34\n",
    "pattern = ‘\\d+’\n",
    "result = re.findall(patern, string)\n",
    "print(result)\n",
    "#Output: [‘12’, ‘89’, ‘34’]\n",
    "\n",
    "2. re.compile(): regullar expressions are compilled into pattern objects\n",
    "3. re.split(): It splits strings where there is a match and returns a list\n",
    "of strings where the splits have occurred\n",
    "Example:\n",
    "import re\n",
    "String = ‘Twelve:12 Eighty nine:89’\n",
    "pattern = ‘\\d+’\n",
    "result = re.split(pattern, string)\n",
    "Print( result )\n",
    "#Output: [ ‘Twelve:’, ‘ Eighty nine:’, ‘ . ’ ]\n",
    "If the pattern is no found, re.split() returns a list containing an empty string.\n",
    "re.split()\n",
    "4. re.sub(): Replacces all occurences of a character with a replacement string\n",
    "5. re.escape(): esdcapes special character\n",
    "6. re.search(): Searchesfor first occurencesof a characteror pattern. That is the method looks for the first locaton where the regEx pattern prodduces a match wirh the string. If the search is sucessful, re.search() rreturns  a match object if not , it rreturns Noen "
   ]
  }
 ],
 "metadata": {
  "kernelspec": {
   "display_name": "Python 3",
   "language": "python",
   "name": "python3"
  },
  "language_info": {
   "codemirror_mode": {
    "name": "ipython",
    "version": 3
   },
   "file_extension": ".py",
   "mimetype": "text/x-python",
   "name": "python",
   "nbconvert_exporter": "python",
   "pygments_lexer": "ipython3",
   "version": "3.13.0"
  }
 },
 "nbformat": 4,
 "nbformat_minor": 5
}
