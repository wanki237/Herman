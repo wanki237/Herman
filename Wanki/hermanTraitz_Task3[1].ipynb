{
  "cells": [
    {
      "cell_type": "markdown",
      "metadata": {
        "id": "0fGtlgdO2BYc"
      },
      "source": [
        "## **Task 3 to be Submitted before Monday 3rd March 11:59pm**"
      ]
    },
    {
      "cell_type": "markdown",
      "metadata": {
        "id": "Y9ojScii2CJ0"
      },
      "source": [
        "### Question 1.\n",
        "\n",
        " A. Create a class `Employee` with the following attributes:  \n",
        "   - `name`  \n",
        "   - `email`  \n",
        "   - `salary`  \n",
        "\n",
        " B. Implement a method `validate_email()` using **regex** to check if the email is valid (format: `example@domain.com`).  \n",
        "C. Implement a method `save_to_file()` to save the employee's details to a file (`employees.txt`).  \n",
        "D. Handle exceptions for:  \n",
        "   - **Invalid email format**  \n",
        "   - **File writing errors**  \n",
        "\n",
        " E. Allow the user to enter multiple employees and save them to the file.  \n",
        "\n"
      ]
    },
    {
      "cell_type": "code",
      "execution_count": 29,
      "metadata": {
        "id": "ACbOzU_m24bH"
      },
      "outputs": [
        {
          "ename": "SyntaxError",
          "evalue": "expected 'except' or 'finally' block (1871517487.py, line 27)",
          "output_type": "error",
          "traceback": [
            "\u001b[1;36m  Cell \u001b[1;32mIn[29], line 27\u001b[1;36m\u001b[0m\n\u001b[1;33m    def displaysave_to_file(self):\u001b[0m\n\u001b[1;37m    ^\u001b[0m\n\u001b[1;31mSyntaxError\u001b[0m\u001b[1;31m:\u001b[0m expected 'except' or 'finally' block\n"
          ]
        }
      ],
      "source": [
        "class Employee:\n",
        "    def __init__(self,name,email,salary):\n",
        "        self.name=name\n",
        "        self.email=email\n",
        "        self.salary=salary\n",
        "        self.validate_email()\n",
        "        self.save_to_file()\n",
        "    \n",
        "\n",
        "    def validate_email(self):\n",
        "        import re\n",
        "        Elisha=\"[a-z]+[0-9]*@gmail.com\"\n",
        "        if re.fullmatch (Elisha,\"me4556@gmail.com\"):\n",
        "            print(\"valid\")\n",
        "        else:\n",
        "            print(\"invalid\")\n",
        "    def displayvalidate_email(self):\n",
        "        print(self.validate_email)\n",
        "\n",
        "    def  save_to_file(self):\n",
        "        try :\n",
        "            if not self.name.endswith(\".txt\"):\n",
        "                print(f\"{self.name}, {self.email}, {self.salary}\\n\")\n",
        "            else:\n",
        "                print(\"invalid email formaat\")  \n",
        "             #self.name += \".txt\"\n",
        "    def displaysave_to_file(self):\n",
        "        print(self.save_to_file)\n",
        "\n",
        "c1=Employee(\"herman\",\"123wan@gmail.com\",1000)\n",
        "c1.displayvalidate_email()\n",
        "c1.displaysave_to_file()\n",
        "   "
      ]
    },
    {
      "cell_type": "markdown",
      "metadata": {
        "id": "KW95LhCE25I4"
      },
      "source": [
        "\n",
        "\n",
        "### Question2. \n",
        "\n",
        "**Create a `Person` class** with:  \n",
        "   - Attributes:  \n",
        "     - name   \n",
        "     - password   \n",
        "   - A method `validate_password()` that uses **regex** to check if the password is valid.  \n",
        "     - The password must be **at least 8 characters long**, contain **at least one uppercase letter**, **one lowercase letter**, and **one digit**.  \n",
        "     - If invalid, raise an exception.  \n",
        "\n",
        "2. **Create a `Librarian` class that inherits from `Person`**  \n",
        "   - Additional attribute:  \n",
        "     - `staff_id` (string)  \n",
        "   - A method `add_book(title, author, file_name=\"books.txt\")` that writes book details (`title` and `author`) to a text file.  \n",
        "   - Use **exception handling** to check if the file operation is successful.  \n",
        "\n",
        "3. **Create a `Member` class that inherits from `Person`**  \n",
        "   - Additional attribute:  \n",
        "     - `member_id` (string)  \n",
        "   - A method `borrow_book(title, file_name=\"books.txt\")` that:  \n",
        "     - Reads the `books.txt` file and checks if the book is available.  \n",
        "     - If the book is found, print `\"<name> borrowed '<title>'\"` and remove it from the file.  \n",
        "     - If the book is not found, raise an exception.  \n",
        "\n",
        "4. **Handle exceptions** for:  \n",
        "   - **Invalid password format** when creating `Person` objects.  \n",
        "   - **File errors** (e.g., book file not found or empty).  \n",
        "\n",
        "5. **Create instances of `Librarian` and `Member`**, add books, and borrow books to test the system.  \n",
        "\n"
      ]
    },
    {
      "cell_type": "code",
      "execution_count": null,
      "metadata": {},
      "outputs": [
        {
          "ename": "SyntaxError",
          "evalue": "expected 'except' or 'finally' block (532311109.py, line 26)",
          "output_type": "error",
          "traceback": [
            "\u001b[1;36m  Cell \u001b[1;32mIn[51], line 26\u001b[1;36m\u001b[0m\n\u001b[1;33m    def displayfile_name(self):\u001b[0m\n\u001b[1;37m                               ^\u001b[0m\n\u001b[1;31mSyntaxError\u001b[0m\u001b[1;31m:\u001b[0m expected 'except' or 'finally' block\n"
          ]
        }
      ],
      "source": [
        "class Person:\n",
        "    def __init__(self,name,password,staff_id):\n",
        "        self.name=name\n",
        "        self.password=password\n",
        "        self.validate_password()\n",
        "        self.staff_id=str(staff_id)\n",
        "    \n",
        "    def  validate_password(self):\n",
        "        import re\n",
        "        elisha=r\"(.{0,7}|[^0-9]|[^A-Z]|[^a-z]|[a-zA-Z0-9])$\"\n",
        "        if re.fullmatch(elisha,\"Uba24PH222\"):\n",
        "            print(\"invalid\")\n",
        "        else:\n",
        "            print(\"valid\")\n",
        "    def displayvalidate_password(self):\n",
        "        print(self.validate_password)\n",
        "\n",
        "class librarian(Person):\n",
        "         pass\n",
        "         \n",
        "def add_book(self,title, author, file_name=\"books.txt\"):\n",
        "        try:\n",
        "            with open(file_name,\"a\") as file:\n",
        "                file_name.write(f\"{title}, {author}\")\n",
        "                print(\"book added\")\n",
        "def displayfile_name(self):\n",
        "            print(add_book)\n",
        "     \n",
        "\n",
        "c1=Person(\"herman\",\"Uba24PH222\")\n",
        "c1.displayvalidate_password()\n",
        "c1.displayfile_name()\n"
      ]
    },
    {
      "cell_type": "markdown",
      "metadata": {},
      "source": [
        "### Question 3. \n",
        "\n",
        "##### Exercise1.(Regex)\n",
        "Come up with regular expressions to verify the following strings.\n",
        "\n",
        "**1)** Dates of the format DD/MM/YYYY. Note that dates can not be more than 30/12/9999. For educational purposes, you won't be required to verify the actual number of days for specific months say for example. Sep 2026 has 30 days, Feb 2026 has 28 days as so on, and we won't shock for this. Let you regex refuse any day greater than the 31st of a month. Try out with the following dates. \n",
        "* **i)** 24/02/3078 -> Valid\n",
        "* **ii)** 41/03/2025 -> Not valid\n",
        "\n",
        "**2)** Cameroonian phone numbers are of the format +237 6xx xxx xxx. Come up with a regular expression that checks the validity of a number inputed by a user. \n",
        "Your python script should make use of functions. Test your Function with the following numbers to see if it's correct.\n",
        "* **a)** +236 679 678 875 -> Not Valid\n",
        "* **b)** +237 653 532 228 -> Valid\n",
        "* **c)** +237 670 059 101 -> Valid\n",
        "* **d)** *237 677 657 471 -> Not Valid"
      ]
    },
    {
      "cell_type": "code",
      "execution_count": 61,
      "metadata": {
        "id": "nDADaCVF4on9"
      },
      "outputs": [
        {
          "name": "stdout",
          "output_type": "stream",
          "text": [
            "valid\n"
          ]
        }
      ],
      "source": [
        "import re\n",
        "elisha= r\"^(0[1-9]|[12][0-9]|3[01])/(0[1-9]|1[0-2])/[1-9][0-9]{3}$\"\n",
        "if re.fullmatch(elisha,\"24/02/3078\"):\n",
        "    if re.fullmatch(elisha,\"41/03/2025\"):\n",
        "        print(\"invalid\")\n",
        "    else:\n",
        "        print(\"valid\")\n",
        "\n",
        "\n",
        "import re\n",
        "pattern = r\"^\\+237 6[25789]\\d{2} \\d{3} \\d{3}$\"\n",
        "if re.fullmatch(pattern,\"+236 679 678 875\" ):\n",
        "    if re.fullmatch(pattern,\"+237 653 532 228\" ):\n",
        "            if re.fullmatch(pattern, \"+237 670 059 101\"):\n",
        "                     if re.fullmatch(pattern, \"*237 677 657 471\"  ):\n",
        "                           print(\"invalid\")\n",
        "    else:\n",
        "        print(\"valid\")\n",
        "        \n",
        "\n",
        "\n",
        " "
      ]
    }
  ],
  "metadata": {
    "colab": {
      "provenance": []
    },
    "kernelspec": {
      "display_name": "Python 3",
      "name": "python3"
    },
    "language_info": {
      "codemirror_mode": {
        "name": "ipython",
        "version": 3
      },
      "file_extension": ".py",
      "mimetype": "text/x-python",
      "name": "python",
      "nbconvert_exporter": "python",
      "pygments_lexer": "ipython3",
      "version": "3.13.0"
    }
  },
  "nbformat": 4,
  "nbformat_minor": 0
}
